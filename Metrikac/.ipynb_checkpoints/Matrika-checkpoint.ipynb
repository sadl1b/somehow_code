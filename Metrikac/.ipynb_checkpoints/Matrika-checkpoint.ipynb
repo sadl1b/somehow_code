{
 "cells": [
  {
   "cell_type": "code",
   "execution_count": null,
   "id": "f521683f",
   "metadata": {},
   "outputs": [],
   "source": [
    "# Требования к отчету\n",
    "(в хронологическом порядке)\n",
    "\n",
    "1. Нужен отчет по трафику (визиты по дням)\n",
    "2. Сделайте таблицу попроще\n",
    "3. А можно сразу очень много строк получить?\n",
    "\n",
    "[Демо-счетчик](https://metrika.yandex.ru/stat/traffic?sort=-ym%3As%3Avisits&period=month&accuracy=1&id=44147844&group=day&isSamplingEnabled=true&stateHash=6511e926062062001908a610) Яндекс.Метрики\n"
   ]
  },
  {
   "cell_type": "code",
   "execution_count": 4,
   "id": "d74945ae",
   "metadata": {},
   "outputs": [],
   "source": [
    "import requests\n"
   ]
  },
  {
   "cell_type": "code",
   "execution_count": 1,
   "id": "2121ccb2",
   "metadata": {},
   "outputs": [],
   "source": [
    "\n",
    "API_URL = 'https://api-metrika.yandex.ru/stat/v1/data'\n",
    "METRIKA_ROWS_LIMIT = 5  # max 100000\n",
    "\n",
    "DEMO_COUNTER = 44147844\n",
    "\n",
    "class Metrika:\n",
    "    def __init__(self, token='', counter=DEMO_COUNTER, start_date='2020-09-01', end_date='2020-09-10'):\n",
    "        self.counter = counter\n",
    "        self.limit = METRIKA_ROWS_LIMIT\n",
    "        self.start_date = start_date\n",
    "        self.end_date = end_date\n",
    "        \n",
    "        if token:\n",
    "            self.headers = {'Authorization': 'OAuth ' + token}\n",
    "        else:\n",
    "            self.headers = ''  # для демо-счетчика заголовок запроса должен быть пустым\n",
    "        \n",
    "        self.dimensions = ''  # строки отчета\n",
    "        self.metrics = ''  # столбцы отчета\n",
    "        self.report = []  # сам отчет\n",
    "        \n",
    "    def api_request(self, offset=1):\n",
    "        \"\"\"Запрос к API Метрики, возвращает словарь с отчетом\"\"\"\n",
    "        params = {\n",
    "            'id': self.counter,\n",
    "            'date1': self.start_date,\n",
    "            'date2': self.end_date,\n",
    "            'metrics': self.metrics,\n",
    "            'dimensions': self.dimensions,\n",
    "            'limit': self.limit,\n",
    "            'offset': offset,\n",
    "            'accuracy': 1,\n",
    "        }\n",
    "        \n",
    "        response = requests.get(API_URL, params=params, headers=self.headers)\n",
    "        return response.json()['data']\n",
    "    \n",
    "    def traffic(self):\n",
    "        \"\"\"Отчет по посещаемости\"\"\"\n",
    "        self.metrics = 'ym:s:visits'\n",
    "        self.dimensions = 'ym:s:date'\n",
    "        \n",
    "        report = self.full_report()\n",
    "        self.report = report\n",
    "        \n",
    "    def browsers(self):\n",
    "        \"\"\"Отчет по браузерам\"\"\"\n",
    "        self.metrics = 'ym:s:visits'\n",
    "        self.dimensions = 'ym:s:date,ym:s:browser'\n",
    "        \n",
    "        report = self.full_report()\n",
    "        self.report = report\n",
    "    \n",
    "    def reformat_api_report(self):\n",
    "        \"\"\"Упрощение отчета до списка списков\"\"\"\n",
    "        reformatted_report = []\n",
    "\n",
    "        for line in self.report:\n",
    "            dimensions = [x['name'] for x in line['dimensions']]\n",
    "            reformatted_report.append(dimensions + line['metrics'])\n",
    "\n",
    "        self.report = reformatted_report\n",
    "    \n",
    "    def full_report(self):\n",
    "        \"\"\"Постраничная выгрузка из Метрики\"\"\"\n",
    "        full_data = []\n",
    "        offset = 1\n",
    "        \n",
    "        while True:\n",
    "            print('Starting offset {}'.format(offset))\n",
    "            data = self.api_request(offset=offset)\n",
    "            full_data += data\n",
    "            \n",
    "            offset += self.limit\n",
    "            if not data or len(data) < self.limit:\n",
    "                break\n",
    "        \n",
    "        return full_data\n",
    "\n"
   ]
  },
  {
   "cell_type": "code",
   "execution_count": 2,
   "id": "3f628616",
   "metadata": {},
   "outputs": [],
   "source": [
    "m = Metrika(start_date='2023-01-01', end_date='2023-01-18')"
   ]
  },
  {
   "cell_type": "code",
   "execution_count": 5,
   "id": "75d6f9da",
   "metadata": {},
   "outputs": [
    {
     "name": "stdout",
     "output_type": "stream",
     "text": [
      "Starting offset 1\n",
      "Starting offset 6\n",
      "Starting offset 11\n",
      "Starting offset 16\n"
     ]
    }
   ],
   "source": [
    "m.traffic()"
   ]
  },
  {
   "cell_type": "code",
   "execution_count": null,
   "id": "67af0bd3",
   "metadata": {},
   "outputs": [],
   "source": [
    "m = Metrika(start_date='2023-01-01', end_date='2023-01-18')\n",
    "\n",
    "m.traffic()\n",
    "\n",
    "m.report\n",
    "\n",
    "m.reformat_api_report()\n",
    "m.report\n",
    "\n",
    "m.browsers()\n",
    "\n",
    "m.report\n",
    "\n",
    "m.reformat_api_report()\n",
    "m.report"
   ]
  }
 ],
 "metadata": {
  "kernelspec": {
   "display_name": "Python 3 (ipykernel)",
   "language": "python",
   "name": "python3"
  },
  "language_info": {
   "codemirror_mode": {
    "name": "ipython",
    "version": 3
   },
   "file_extension": ".py",
   "mimetype": "text/x-python",
   "name": "python",
   "nbconvert_exporter": "python",
   "pygments_lexer": "ipython3",
   "version": "3.11.5"
  }
 },
 "nbformat": 4,
 "nbformat_minor": 5
}
