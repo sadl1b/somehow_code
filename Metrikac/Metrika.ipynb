{
 "cells": [
  {
   "cell_type": "code",
   "execution_count": 1,
   "id": "d74945ae",
   "metadata": {},
   "outputs": [],
   "source": [
    "import requests"
   ]
  },
  {
   "cell_type": "code",
   "execution_count": 47,
   "id": "2121ccb2",
   "metadata": {},
   "outputs": [],
   "source": [
    "\n",
    "API_URL = 'https://api-metrika.yandex.ru/stat/v1/data'\n",
    "METRIKA_ROWS_LIMIT = 5  # max 100000\n",
    "\n",
    "DEMO_COUNTER = 44147844\n",
    "\n",
    "class Metrika:\n",
    "    def __init__(self, token='', counter=DEMO_COUNTER, start_date='2020-09-01', end_date='2020-09-10'):\n",
    "        self.counter = counter\n",
    "        self.limit = METRIKA_ROWS_LIMIT\n",
    "        self.start_date = start_date\n",
    "        self.end_date = end_date\n",
    "        self.headers = ''\n",
    "\n",
    "        self.dimensions = ''  # строки отчета\n",
    "        self.metrics = ''  # столбцы отчета\n",
    "        self.report = []  # сам отчет\n",
    "        \n",
    "    def api_request(self, offset=1):\n",
    "        \"\"\"Запрос к API Метрики, возвращает словарь с отчетом\"\"\"\n",
    "        params = {\n",
    "            'id': self.counter,\n",
    "            'date1': self.start_date,\n",
    "            'date2': self.end_date,\n",
    "            'metrics': self.metrics,\n",
    "            'dimensions': self.dimensions,\n",
    "            'limit': self.limit,\n",
    "            'offset': offset,\n",
    "            'accuracy': 1,\n",
    "        }\n",
    "        \n",
    "        response = requests.get(API_URL, params=params, headers=self.headers)\n",
    "        return response.json()['data']\n",
    "    \n",
    "    def traffic(self,full=False):\n",
    "        \"\"\"Отчет по посещаемости\"\"\"\n",
    "        self.metrics = 'ym:s:visits'\n",
    "        self.dimensions = 'ym:s:date'\n",
    "        if not full:\n",
    "            report = self.api_request()\n",
    "            self.report = report\n",
    "        if full:\n",
    "            report = self.full_report()\n",
    "            self.report = report\n",
    "\n",
    "\n",
    "    \n",
    "    def full_report(self):\n",
    "        \"\"\"Постраничная выгрузка из Метрики\"\"\"\n",
    "        full_data = []\n",
    "        offset = 1\n",
    "        \n",
    "        while True:\n",
    "            print('Starting offset {}'.format(offset))\n",
    "            data = self.api_request(offset=offset)\n",
    "            full_data += data\n",
    "            \n",
    "            offset += self.limit\n",
    "            if not data or len(data) < self.limit:\n",
    "                break\n",
    "        \n",
    "        return full_data\n",
    "\n"
   ]
  }
 ],
 "metadata": {
  "kernelspec": {
   "display_name": "Python 3 (ipykernel)",
   "language": "python",
   "name": "python3"
  },
  "language_info": {
   "codemirror_mode": {
    "name": "ipython",
    "version": 3
   },
   "file_extension": ".py",
   "mimetype": "text/x-python",
   "name": "python",
   "nbconvert_exporter": "python",
   "pygments_lexer": "ipython3",
   "version": "3.11.5"
  }
 },
 "nbformat": 4,
 "nbformat_minor": 5
}
