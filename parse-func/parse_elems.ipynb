{
 "cells": [
  {
   "cell_type": "code",
   "execution_count": 1,
   "id": "b86df017",
   "metadata": {},
   "outputs": [],
   "source": [
    "import pandas as pd\n",
    "import requests\n",
    "from bs4 import BeautifulSoup\n",
    "import time"
   ]
  },
  {
   "cell_type": "code",
   "execution_count": 2,
   "id": "424f6d44",
   "metadata": {},
   "outputs": [],
   "source": [
    "def hbr_srch(queries:list, pages:int=1) ->pd.DataFrame:\n",
    "\n",
    "  df = pd.DataFrame()\n",
    "  articles_id = set()\n",
    "  for query in queries:\n",
    "    for p in range(1,pages+1):\n",
    "      time.sleep(0.5)\n",
    "      url = 'https://habr.com'\n",
    "      params = {\n",
    "          'q': query\n",
    "      }\n",
    "      headers = {\n",
    "          'Accept-Language': 'ru,en-us;q=0.7,en;q=0.3'\n",
    "      }\n",
    "      with requests.get(url+f'/search/page{p}',params=params, headers=headers) as response:\n",
    "        soup = BeautifulSoup(response.text)\n",
    "\n",
    "      articles = soup.find_all('article', 'tm-articles-list__item') \n",
    "      rows = []\n",
    "\n",
    "      for elem in articles:\n",
    "        if elem.get('id') in articles_id:\n",
    "          continue\n",
    "\n",
    "        if is_megapost:= elem.find('div','tm-megapost-snippet'):\n",
    "          print('megapost')\n",
    "          articles_id.add(elem.get('id'))\n",
    "          data = pd.to_datetime(elem.find('time').get('datetime'))\n",
    "          title = elem.find('h2', 'tm-megapost-snippet__title').text\n",
    "          link = url + elem.find('a', 'tm-megapost-snippet__link').get('href')\n",
    "          likes = elem.find('span', 'tm-votes-meter__value').text\n",
    "          print(link)\n",
    "\n",
    "          with requests.get(link) as res:\n",
    "            is_200 = res.status_code\n",
    "            print(is_200)\n",
    "            inner_soup = BeautifulSoup(res.text)\n",
    "          \n",
    "          text_content = inner_soup.find(id='post-content-body').text.strip().replace('\\n','')\n",
    "        \n",
    "        else:\n",
    "\n",
    "          articles_id.add(elem.get('id'))\n",
    "          data = pd.to_datetime(elem.find('time').get('datetime'))\n",
    "          title = elem.find('h2').find('span').text\n",
    "          link = url + elem.find('h2').find('a').get('href')\n",
    "          likes = elem.find('span', 'tm-votes-meter__value').text\n",
    "          print(link)\n",
    "\n",
    "          if link:  # обработка постов с удаленных ресурсов при условии что у них такой же тег article и класс tm-articles-list__item\n",
    "                    # если же они отличаются, то они пропускаются, но мне кажется я на них не наткнулся\n",
    "            with requests.get(link) as res:\n",
    "              is_200 = res.status_code\n",
    "              print(is_200)\n",
    "              inner_soup = BeautifulSoup(res.text)\n",
    "\n",
    "            not_found = inner_soup.find('div', 'tm-error-message__body')\n",
    "\n",
    "            if is_200 == 404:\n",
    "              text_content = not_found.text.strip().replace('\\n','')\n",
    "\n",
    "            elif is_expired:=inner_soup.find('p', 'tm-expired-company__text'):\n",
    "              text_content = is_expired.text.strip().replace('\\n','')\n",
    "\n",
    "            elif is_200 == 200:\n",
    "              text_content = inner_soup.find('div','article-formatted-body').text.strip().replace('\\n','')\n",
    "\n",
    "            else:\n",
    "              text_content = 'Unexpected error'\n",
    "\n",
    "          else: \n",
    "            print('remote')\n",
    "            continue\n",
    "\n",
    "        rows.append({'data':data, 'title': title, 'link': link, 'text_content':text_content, 'likes':likes})\n",
    "\n",
    "      inner_df = pd.DataFrame(rows)\n",
    "      df = pd.concat([df,inner_df], ignore_index=True)\n",
    "\n",
    "  return df"
   ]
  },
  {
   "cell_type": "code",
   "execution_count": 6,
   "id": "4310e49c",
   "metadata": {},
   "outputs": [],
   "source": [
    "df = hbr_srch([''],1)"
   ]
  },
  {
   "cell_type": "code",
   "execution_count": 8,
   "id": "4b0709f7",
   "metadata": {},
   "outputs": [
    {
     "data": {
      "text/html": [
       "<div>\n",
       "<style scoped>\n",
       "    .dataframe tbody tr th:only-of-type {\n",
       "        vertical-align: middle;\n",
       "    }\n",
       "\n",
       "    .dataframe tbody tr th {\n",
       "        vertical-align: top;\n",
       "    }\n",
       "\n",
       "    .dataframe thead th {\n",
       "        text-align: right;\n",
       "    }\n",
       "</style>\n",
       "<table border=\"1\" class=\"dataframe\">\n",
       "  <thead>\n",
       "    <tr style=\"text-align: right;\">\n",
       "      <th></th>\n",
       "    </tr>\n",
       "  </thead>\n",
       "  <tbody>\n",
       "  </tbody>\n",
       "</table>\n",
       "</div>"
      ],
      "text/plain": [
       "Empty DataFrame\n",
       "Columns: []\n",
       "Index: []"
      ]
     },
     "execution_count": 8,
     "metadata": {},
     "output_type": "execute_result"
    }
   ],
   "source": [
    "pd.set_option('display.max_rows',100)\n",
    "df.head(100)"
   ]
  }
 ],
 "metadata": {
  "kernelspec": {
   "display_name": "Python 3 (ipykernel)",
   "language": "python",
   "name": "python3"
  },
  "language_info": {
   "codemirror_mode": {
    "name": "ipython",
    "version": 3
   },
   "file_extension": ".py",
   "mimetype": "text/x-python",
   "name": "python",
   "nbconvert_exporter": "python",
   "pygments_lexer": "ipython3",
   "version": "3.11.5"
  }
 },
 "nbformat": 4,
 "nbformat_minor": 5
}
